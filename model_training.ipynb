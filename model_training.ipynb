{
 "cells": [
  {
   "cell_type": "code",
   "execution_count": 1,
   "id": "d270800b",
   "metadata": {},
   "outputs": [],
   "source": [
    "import numpy as np\n",
    "import pandas as pd\n",
    "import matplotlib.pyplot as plt\n",
    "import seaborn as sns"
   ]
  },
  {
   "cell_type": "code",
   "execution_count": 2,
   "id": "baa45943",
   "metadata": {},
   "outputs": [
    {
     "name": "stderr",
     "output_type": "stream",
     "text": [
      "C:\\Users\\DELL\\AppData\\Local\\Temp\\ipykernel_11820\\3498974381.py:2: DtypeWarning: Columns (0) have mixed types. Specify dtype option on import or set low_memory=False.\n",
      "  df=pd.read_csv('historical_data.csv',encoding=\"ISO-8859-1\", parse_dates=['date'])\n"
     ]
    }
   ],
   "source": [
    "state=pd.read_csv('poptable.csv')\n",
    "df=pd.read_csv('historical_data.csv',encoding=\"ISO-8859-1\", parse_dates=['date'])"
   ]
  },
  {
   "cell_type": "code",
   "execution_count": 3,
   "id": "4f5f416c",
   "metadata": {},
   "outputs": [
    {
     "data": {
      "text/html": [
       "<div>\n",
       "<style scoped>\n",
       "    .dataframe tbody tr th:only-of-type {\n",
       "        vertical-align: middle;\n",
       "    }\n",
       "\n",
       "    .dataframe tbody tr th {\n",
       "        vertical-align: top;\n",
       "    }\n",
       "\n",
       "    .dataframe thead th {\n",
       "        text-align: right;\n",
       "    }\n",
       "</style>\n",
       "<table border=\"1\" class=\"dataframe\">\n",
       "  <thead>\n",
       "    <tr style=\"text-align: right;\">\n",
       "      <th></th>\n",
       "      <th>stn_code</th>\n",
       "      <th>sampling_date</th>\n",
       "      <th>state</th>\n",
       "      <th>location</th>\n",
       "      <th>agency</th>\n",
       "      <th>type</th>\n",
       "      <th>so2</th>\n",
       "      <th>no2</th>\n",
       "      <th>rspm</th>\n",
       "      <th>spm</th>\n",
       "      <th>location_monitoring_station</th>\n",
       "      <th>pm2_5</th>\n",
       "      <th>date</th>\n",
       "    </tr>\n",
       "  </thead>\n",
       "  <tbody>\n",
       "    <tr>\n",
       "      <th>0</th>\n",
       "      <td>150.0</td>\n",
       "      <td>February - M021990</td>\n",
       "      <td>Andhra Pradesh</td>\n",
       "      <td>Hyderabad</td>\n",
       "      <td>NaN</td>\n",
       "      <td>Residential, Rural and other Areas</td>\n",
       "      <td>4.8</td>\n",
       "      <td>17.4</td>\n",
       "      <td>NaN</td>\n",
       "      <td>NaN</td>\n",
       "      <td>NaN</td>\n",
       "      <td>NaN</td>\n",
       "      <td>1990-02-01</td>\n",
       "    </tr>\n",
       "    <tr>\n",
       "      <th>1</th>\n",
       "      <td>151.0</td>\n",
       "      <td>February - M021990</td>\n",
       "      <td>Andhra Pradesh</td>\n",
       "      <td>Hyderabad</td>\n",
       "      <td>NaN</td>\n",
       "      <td>Industrial Area</td>\n",
       "      <td>3.1</td>\n",
       "      <td>7.0</td>\n",
       "      <td>NaN</td>\n",
       "      <td>NaN</td>\n",
       "      <td>NaN</td>\n",
       "      <td>NaN</td>\n",
       "      <td>1990-02-01</td>\n",
       "    </tr>\n",
       "    <tr>\n",
       "      <th>2</th>\n",
       "      <td>152.0</td>\n",
       "      <td>February - M021990</td>\n",
       "      <td>Andhra Pradesh</td>\n",
       "      <td>Hyderabad</td>\n",
       "      <td>NaN</td>\n",
       "      <td>Residential, Rural and other Areas</td>\n",
       "      <td>6.2</td>\n",
       "      <td>28.5</td>\n",
       "      <td>NaN</td>\n",
       "      <td>NaN</td>\n",
       "      <td>NaN</td>\n",
       "      <td>NaN</td>\n",
       "      <td>1990-02-01</td>\n",
       "    </tr>\n",
       "    <tr>\n",
       "      <th>3</th>\n",
       "      <td>150.0</td>\n",
       "      <td>March - M031990</td>\n",
       "      <td>Andhra Pradesh</td>\n",
       "      <td>Hyderabad</td>\n",
       "      <td>NaN</td>\n",
       "      <td>Residential, Rural and other Areas</td>\n",
       "      <td>6.3</td>\n",
       "      <td>14.7</td>\n",
       "      <td>NaN</td>\n",
       "      <td>NaN</td>\n",
       "      <td>NaN</td>\n",
       "      <td>NaN</td>\n",
       "      <td>1990-03-01</td>\n",
       "    </tr>\n",
       "    <tr>\n",
       "      <th>4</th>\n",
       "      <td>151.0</td>\n",
       "      <td>March - M031990</td>\n",
       "      <td>Andhra Pradesh</td>\n",
       "      <td>Hyderabad</td>\n",
       "      <td>NaN</td>\n",
       "      <td>Industrial Area</td>\n",
       "      <td>4.7</td>\n",
       "      <td>7.5</td>\n",
       "      <td>NaN</td>\n",
       "      <td>NaN</td>\n",
       "      <td>NaN</td>\n",
       "      <td>NaN</td>\n",
       "      <td>1990-03-01</td>\n",
       "    </tr>\n",
       "  </tbody>\n",
       "</table>\n",
       "</div>"
      ],
      "text/plain": [
       "  stn_code       sampling_date           state   location agency  \\\n",
       "0    150.0  February - M021990  Andhra Pradesh  Hyderabad    NaN   \n",
       "1    151.0  February - M021990  Andhra Pradesh  Hyderabad    NaN   \n",
       "2    152.0  February - M021990  Andhra Pradesh  Hyderabad    NaN   \n",
       "3    150.0     March - M031990  Andhra Pradesh  Hyderabad    NaN   \n",
       "4    151.0     March - M031990  Andhra Pradesh  Hyderabad    NaN   \n",
       "\n",
       "                                 type  so2   no2  rspm  spm  \\\n",
       "0  Residential, Rural and other Areas  4.8  17.4   NaN  NaN   \n",
       "1                     Industrial Area  3.1   7.0   NaN  NaN   \n",
       "2  Residential, Rural and other Areas  6.2  28.5   NaN  NaN   \n",
       "3  Residential, Rural and other Areas  6.3  14.7   NaN  NaN   \n",
       "4                     Industrial Area  4.7   7.5   NaN  NaN   \n",
       "\n",
       "  location_monitoring_station  pm2_5       date  \n",
       "0                         NaN    NaN 1990-02-01  \n",
       "1                         NaN    NaN 1990-02-01  \n",
       "2                         NaN    NaN 1990-02-01  \n",
       "3                         NaN    NaN 1990-03-01  \n",
       "4                         NaN    NaN 1990-03-01  "
      ]
     },
     "execution_count": 3,
     "metadata": {},
     "output_type": "execute_result"
    }
   ],
   "source": [
    "df.head()"
   ]
  },
  {
   "cell_type": "code",
   "execution_count": 4,
   "id": "9c033374",
   "metadata": {},
   "outputs": [
    {
     "name": "stdout",
     "output_type": "stream",
     "text": [
      "<class 'pandas.core.frame.DataFrame'>\n",
      "RangeIndex: 435742 entries, 0 to 435741\n",
      "Data columns (total 13 columns):\n",
      " #   Column                       Non-Null Count   Dtype         \n",
      "---  ------                       --------------   -----         \n",
      " 0   stn_code                     291665 non-null  object        \n",
      " 1   sampling_date                435739 non-null  object        \n",
      " 2   state                        435742 non-null  object        \n",
      " 3   location                     435739 non-null  object        \n",
      " 4   agency                       286261 non-null  object        \n",
      " 5   type                         430349 non-null  object        \n",
      " 6   so2                          401096 non-null  float64       \n",
      " 7   no2                          419509 non-null  float64       \n",
      " 8   rspm                         395520 non-null  float64       \n",
      " 9   spm                          198355 non-null  float64       \n",
      " 10  location_monitoring_station  408251 non-null  object        \n",
      " 11  pm2_5                        9314 non-null    float64       \n",
      " 12  date                         435735 non-null  datetime64[ns]\n",
      "dtypes: datetime64[ns](1), float64(5), object(7)\n",
      "memory usage: 43.2+ MB\n"
     ]
    }
   ],
   "source": [
    "df.info()"
   ]
  },
  {
   "cell_type": "code",
   "execution_count": 5,
   "id": "be89dfcb",
   "metadata": {},
   "outputs": [],
   "source": [
    "drop_cols=['stn_code','sampling_date','location','agency','type','location_monitoring_station']\n",
    "df.drop(drop_cols,inplace=True,axis=1)"
   ]
  },
  {
   "cell_type": "code",
   "execution_count": 6,
   "id": "fda83f25",
   "metadata": {},
   "outputs": [
    {
     "data": {
      "text/html": [
       "<div>\n",
       "<style scoped>\n",
       "    .dataframe tbody tr th:only-of-type {\n",
       "        vertical-align: middle;\n",
       "    }\n",
       "\n",
       "    .dataframe tbody tr th {\n",
       "        vertical-align: top;\n",
       "    }\n",
       "\n",
       "    .dataframe thead th {\n",
       "        text-align: right;\n",
       "    }\n",
       "</style>\n",
       "<table border=\"1\" class=\"dataframe\">\n",
       "  <thead>\n",
       "    <tr style=\"text-align: right;\">\n",
       "      <th></th>\n",
       "      <th>state</th>\n",
       "      <th>so2</th>\n",
       "      <th>no2</th>\n",
       "      <th>rspm</th>\n",
       "      <th>spm</th>\n",
       "      <th>pm2_5</th>\n",
       "      <th>date</th>\n",
       "    </tr>\n",
       "  </thead>\n",
       "  <tbody>\n",
       "    <tr>\n",
       "      <th>0</th>\n",
       "      <td>Andhra Pradesh</td>\n",
       "      <td>4.8</td>\n",
       "      <td>17.4</td>\n",
       "      <td>NaN</td>\n",
       "      <td>NaN</td>\n",
       "      <td>NaN</td>\n",
       "      <td>1990-02-01</td>\n",
       "    </tr>\n",
       "    <tr>\n",
       "      <th>1</th>\n",
       "      <td>Andhra Pradesh</td>\n",
       "      <td>3.1</td>\n",
       "      <td>7.0</td>\n",
       "      <td>NaN</td>\n",
       "      <td>NaN</td>\n",
       "      <td>NaN</td>\n",
       "      <td>1990-02-01</td>\n",
       "    </tr>\n",
       "    <tr>\n",
       "      <th>2</th>\n",
       "      <td>Andhra Pradesh</td>\n",
       "      <td>6.2</td>\n",
       "      <td>28.5</td>\n",
       "      <td>NaN</td>\n",
       "      <td>NaN</td>\n",
       "      <td>NaN</td>\n",
       "      <td>1990-02-01</td>\n",
       "    </tr>\n",
       "    <tr>\n",
       "      <th>3</th>\n",
       "      <td>Andhra Pradesh</td>\n",
       "      <td>6.3</td>\n",
       "      <td>14.7</td>\n",
       "      <td>NaN</td>\n",
       "      <td>NaN</td>\n",
       "      <td>NaN</td>\n",
       "      <td>1990-03-01</td>\n",
       "    </tr>\n",
       "    <tr>\n",
       "      <th>4</th>\n",
       "      <td>Andhra Pradesh</td>\n",
       "      <td>4.7</td>\n",
       "      <td>7.5</td>\n",
       "      <td>NaN</td>\n",
       "      <td>NaN</td>\n",
       "      <td>NaN</td>\n",
       "      <td>1990-03-01</td>\n",
       "    </tr>\n",
       "  </tbody>\n",
       "</table>\n",
       "</div>"
      ],
      "text/plain": [
       "            state  so2   no2  rspm  spm  pm2_5       date\n",
       "0  Andhra Pradesh  4.8  17.4   NaN  NaN    NaN 1990-02-01\n",
       "1  Andhra Pradesh  3.1   7.0   NaN  NaN    NaN 1990-02-01\n",
       "2  Andhra Pradesh  6.2  28.5   NaN  NaN    NaN 1990-02-01\n",
       "3  Andhra Pradesh  6.3  14.7   NaN  NaN    NaN 1990-03-01\n",
       "4  Andhra Pradesh  4.7   7.5   NaN  NaN    NaN 1990-03-01"
      ]
     },
     "execution_count": 6,
     "metadata": {},
     "output_type": "execute_result"
    }
   ],
   "source": [
    "df.head()"
   ]
  },
  {
   "cell_type": "code",
   "execution_count": 7,
   "id": "efa0a17f",
   "metadata": {},
   "outputs": [
    {
     "data": {
      "text/html": [
       "<div>\n",
       "<style scoped>\n",
       "    .dataframe tbody tr th:only-of-type {\n",
       "        vertical-align: middle;\n",
       "    }\n",
       "\n",
       "    .dataframe tbody tr th {\n",
       "        vertical-align: top;\n",
       "    }\n",
       "\n",
       "    .dataframe thead th {\n",
       "        text-align: right;\n",
       "    }\n",
       "</style>\n",
       "<table border=\"1\" class=\"dataframe\">\n",
       "  <thead>\n",
       "    <tr style=\"text-align: right;\">\n",
       "      <th></th>\n",
       "      <th>state</th>\n",
       "      <th>latitude</th>\n",
       "      <th>longitude</th>\n",
       "      <th>so2</th>\n",
       "      <th>no2</th>\n",
       "      <th>rspm</th>\n",
       "      <th>spm</th>\n",
       "      <th>pm2_5</th>\n",
       "      <th>date</th>\n",
       "    </tr>\n",
       "  </thead>\n",
       "  <tbody>\n",
       "    <tr>\n",
       "      <th>0</th>\n",
       "      <td>Andhra Pradesh</td>\n",
       "      <td>14.750429</td>\n",
       "      <td>78.570026</td>\n",
       "      <td>4.8</td>\n",
       "      <td>17.4</td>\n",
       "      <td>NaN</td>\n",
       "      <td>NaN</td>\n",
       "      <td>NaN</td>\n",
       "      <td>1990-02-01</td>\n",
       "    </tr>\n",
       "    <tr>\n",
       "      <th>1</th>\n",
       "      <td>Andhra Pradesh</td>\n",
       "      <td>14.750429</td>\n",
       "      <td>78.570026</td>\n",
       "      <td>3.1</td>\n",
       "      <td>7.0</td>\n",
       "      <td>NaN</td>\n",
       "      <td>NaN</td>\n",
       "      <td>NaN</td>\n",
       "      <td>1990-02-01</td>\n",
       "    </tr>\n",
       "    <tr>\n",
       "      <th>2</th>\n",
       "      <td>Andhra Pradesh</td>\n",
       "      <td>14.750429</td>\n",
       "      <td>78.570026</td>\n",
       "      <td>6.2</td>\n",
       "      <td>28.5</td>\n",
       "      <td>NaN</td>\n",
       "      <td>NaN</td>\n",
       "      <td>NaN</td>\n",
       "      <td>1990-02-01</td>\n",
       "    </tr>\n",
       "    <tr>\n",
       "      <th>3</th>\n",
       "      <td>Andhra Pradesh</td>\n",
       "      <td>14.750429</td>\n",
       "      <td>78.570026</td>\n",
       "      <td>6.3</td>\n",
       "      <td>14.7</td>\n",
       "      <td>NaN</td>\n",
       "      <td>NaN</td>\n",
       "      <td>NaN</td>\n",
       "      <td>1990-03-01</td>\n",
       "    </tr>\n",
       "    <tr>\n",
       "      <th>4</th>\n",
       "      <td>Andhra Pradesh</td>\n",
       "      <td>14.750429</td>\n",
       "      <td>78.570026</td>\n",
       "      <td>4.7</td>\n",
       "      <td>7.5</td>\n",
       "      <td>NaN</td>\n",
       "      <td>NaN</td>\n",
       "      <td>NaN</td>\n",
       "      <td>1990-03-01</td>\n",
       "    </tr>\n",
       "  </tbody>\n",
       "</table>\n",
       "</div>"
      ],
      "text/plain": [
       "            state   latitude  longitude  so2   no2  rspm  spm  pm2_5  \\\n",
       "0  Andhra Pradesh  14.750429  78.570026  4.8  17.4   NaN  NaN    NaN   \n",
       "1  Andhra Pradesh  14.750429  78.570026  3.1   7.0   NaN  NaN    NaN   \n",
       "2  Andhra Pradesh  14.750429  78.570026  6.2  28.5   NaN  NaN    NaN   \n",
       "3  Andhra Pradesh  14.750429  78.570026  6.3  14.7   NaN  NaN    NaN   \n",
       "4  Andhra Pradesh  14.750429  78.570026  4.7   7.5   NaN  NaN    NaN   \n",
       "\n",
       "        date  \n",
       "0 1990-02-01  \n",
       "1 1990-02-01  \n",
       "2 1990-02-01  \n",
       "3 1990-03-01  \n",
       "4 1990-03-01  "
      ]
     },
     "execution_count": 7,
     "metadata": {},
     "output_type": "execute_result"
    }
   ],
   "source": [
    "df=pd.merge(state.set_index(\"state\"),df.set_index(\"state\"), right_index=True, left_index=True).reset_index()\n",
    "df.head()"
   ]
  },
  {
   "cell_type": "code",
   "execution_count": 8,
   "id": "8b54d8e5",
   "metadata": {},
   "outputs": [
    {
     "data": {
      "text/plain": [
       "state             0\n",
       "latitude          0\n",
       "longitude         0\n",
       "so2           30451\n",
       "no2           15014\n",
       "rspm          36451\n",
       "spm          214211\n",
       "pm2_5        382855\n",
       "date              5\n",
       "dtype: int64"
      ]
     },
     "execution_count": 8,
     "metadata": {},
     "output_type": "execute_result"
    }
   ],
   "source": [
    "df.isna().sum()"
   ]
  },
  {
   "cell_type": "markdown",
   "id": "1d0c7c15",
   "metadata": {},
   "source": [
    "# cleaning data\n",
    "\n",
    "## filling missing value"
   ]
  },
  {
   "cell_type": "code",
   "execution_count": 9,
   "id": "8b2b1143",
   "metadata": {},
   "outputs": [],
   "source": [
    "col_na = ['so2', 'no2', 'rspm', 'spm', 'pm2_5']\n",
    "for col in col_na:\n",
    "    df[col].fillna(df[col].median(), inplace=True)"
   ]
  },
  {
   "cell_type": "code",
   "execution_count": 10,
   "id": "14d2157f",
   "metadata": {},
   "outputs": [
    {
     "data": {
      "text/plain": [
       "state        0\n",
       "latitude     0\n",
       "longitude    0\n",
       "so2          0\n",
       "no2          0\n",
       "rspm         0\n",
       "spm          0\n",
       "pm2_5        0\n",
       "date         5\n",
       "dtype: int64"
      ]
     },
     "execution_count": 10,
     "metadata": {},
     "output_type": "execute_result"
    }
   ],
   "source": [
    "df.isna().sum()"
   ]
  },
  {
   "cell_type": "code",
   "execution_count": 11,
   "id": "086185be",
   "metadata": {},
   "outputs": [],
   "source": [
    "df.dropna(inplace=True)"
   ]
  },
  {
   "cell_type": "code",
   "execution_count": 12,
   "id": "7e23fcab",
   "metadata": {},
   "outputs": [
    {
     "data": {
      "text/html": [
       "<div>\n",
       "<style scoped>\n",
       "    .dataframe tbody tr th:only-of-type {\n",
       "        vertical-align: middle;\n",
       "    }\n",
       "\n",
       "    .dataframe tbody tr th {\n",
       "        vertical-align: top;\n",
       "    }\n",
       "\n",
       "    .dataframe thead th {\n",
       "        text-align: right;\n",
       "    }\n",
       "</style>\n",
       "<table border=\"1\" class=\"dataframe\">\n",
       "  <thead>\n",
       "    <tr style=\"text-align: right;\">\n",
       "      <th></th>\n",
       "      <th>state</th>\n",
       "      <th>latitude</th>\n",
       "      <th>longitude</th>\n",
       "      <th>so2</th>\n",
       "      <th>no2</th>\n",
       "      <th>rspm</th>\n",
       "      <th>spm</th>\n",
       "      <th>pm2_5</th>\n",
       "      <th>date</th>\n",
       "    </tr>\n",
       "  </thead>\n",
       "  <tbody>\n",
       "    <tr>\n",
       "      <th>0</th>\n",
       "      <td>Andhra Pradesh</td>\n",
       "      <td>14.750429</td>\n",
       "      <td>78.570026</td>\n",
       "      <td>4.8</td>\n",
       "      <td>17.4</td>\n",
       "      <td>90.0</td>\n",
       "      <td>192.0</td>\n",
       "      <td>31.0</td>\n",
       "      <td>1990-02-01</td>\n",
       "    </tr>\n",
       "  </tbody>\n",
       "</table>\n",
       "</div>"
      ],
      "text/plain": [
       "            state   latitude  longitude  so2   no2  rspm    spm  pm2_5  \\\n",
       "0  Andhra Pradesh  14.750429  78.570026  4.8  17.4  90.0  192.0   31.0   \n",
       "\n",
       "        date  \n",
       "0 1990-02-01  "
      ]
     },
     "execution_count": 12,
     "metadata": {},
     "output_type": "execute_result"
    }
   ],
   "source": [
    "df.head(1)"
   ]
  },
  {
   "cell_type": "markdown",
   "id": "cd1e07f0",
   "metadata": {},
   "source": [
    "# Date fix"
   ]
  },
  {
   "cell_type": "code",
   "execution_count": 13,
   "id": "b79b23ff",
   "metadata": {},
   "outputs": [],
   "source": [
    "df['year']=df['date'].apply(lambda x:x.year)\n",
    "df['month']=df['date'].apply(lambda x:x.month)\n",
    "df['day']=df['date'].apply(lambda x:x.day)"
   ]
  },
  {
   "cell_type": "code",
   "execution_count": 14,
   "id": "7d61c81f",
   "metadata": {},
   "outputs": [
    {
     "data": {
      "text/plain": [
       "0         1990\n",
       "1         1990\n",
       "2         1990\n",
       "3         1990\n",
       "4         1990\n",
       "          ... \n",
       "386534    2015\n",
       "386535    2015\n",
       "386536    2015\n",
       "386537    2015\n",
       "386538    2015\n",
       "Name: year, Length: 386534, dtype: int64"
      ]
     },
     "execution_count": 14,
     "metadata": {},
     "output_type": "execute_result"
    }
   ],
   "source": [
    "df['year']"
   ]
  },
  {
   "cell_type": "code",
   "execution_count": null,
   "id": "d7e8c770",
   "metadata": {},
   "outputs": [],
   "source": []
  },
  {
   "cell_type": "markdown",
   "id": "fcb04936",
   "metadata": {},
   "source": [
    "# Calculate AQI\n"
   ]
  },
  {
   "cell_type": "code",
   "execution_count": 21,
   "id": "0dada877",
   "metadata": {},
   "outputs": [],
   "source": [
    "import pandas as pd\n",
    "\n",
    "def calculate_aqi(parameter, concentration):\n",
    "    # Define specific AQI breakpoints and corresponding AQI values for each parameter based on Indian standards\n",
    "    parameter_breakpoints = {\n",
    "        'so2': [0, 40, 80, 380, 800, 1600],\n",
    "        'no2': [0, 40, 80, 180, 280, 400],\n",
    "        'rspm': [0, 30, 60, 90, 180, 280],\n",
    "        'spm': [0, 50, 100, 200, 300, 400],\n",
    "        'pm2_5': [0, 30, 60, 90, 120, 250]\n",
    "    }\n",
    "\n",
    "    aqi_values = [0, 50, 100, 200, 300, 400, 500]\n",
    "\n",
    "    for i in range(len(parameter_breakpoints[parameter]) - 1):\n",
    "        if parameter_breakpoints[parameter][i] <= concentration <= parameter_breakpoints[parameter][i + 1]:\n",
    "            break\n",
    "\n",
    "    return ((aqi_values[i + 1] - aqi_values[i]) / (parameter_breakpoints[parameter][i + 1] - parameter_breakpoints[parameter][i])) * (concentration - parameter_breakpoints[parameter][i]) + aqi_values[i]\n",
    "\n",
    "def calculate_overall_aqi(row):\n",
    "    parameters = ['so2', 'no2', 'rspm', 'spm', 'pm2_5']\n",
    "    aqi_values = [calculate_aqi(parameter, row[parameter]) for parameter in parameters]\n",
    "    return max(aqi_values)\n",
    "\n",
    "def interpret_aqi(aqi):\n",
    "    if 0 <= aqi <= 50:\n",
    "        return \"Good\"\n",
    "    elif 51 <= aqi <= 100:\n",
    "        return \"Satisfactory\"\n",
    "    elif 101 <= aqi <= 200:\n",
    "        return \"Moderate\"\n",
    "    elif 201 <= aqi <= 300:\n",
    "        return \"Poor\"\n",
    "    elif 301 <= aqi <= 400:\n",
    "        return \"Very Poor\"\n",
    "    elif 401 <= aqi <= 500:\n",
    "        return \"Severe\"\n",
    "    else:\n",
    "        return \"Invalid AQI value\"\n",
    "\n",
    "def calculate_aqi_for_dataframe(df):\n",
    "    df['aqi'] = df.apply(calculate_overall_aqi, axis=1)\n",
    "    df['aqi_cat'] = df['aqi'].apply(interpret_aqi)\n",
    "    return df"
   ]
  },
  {
   "cell_type": "code",
   "execution_count": 22,
   "id": "0f5b8d1e",
   "metadata": {},
   "outputs": [],
   "source": [
    "df = calculate_aqi_for_dataframe(df)"
   ]
  },
  {
   "cell_type": "code",
   "execution_count": 23,
   "id": "a9f23143",
   "metadata": {},
   "outputs": [
    {
     "data": {
      "text/html": [
       "<div>\n",
       "<style scoped>\n",
       "    .dataframe tbody tr th:only-of-type {\n",
       "        vertical-align: middle;\n",
       "    }\n",
       "\n",
       "    .dataframe tbody tr th {\n",
       "        vertical-align: top;\n",
       "    }\n",
       "\n",
       "    .dataframe thead th {\n",
       "        text-align: right;\n",
       "    }\n",
       "</style>\n",
       "<table border=\"1\" class=\"dataframe\">\n",
       "  <thead>\n",
       "    <tr style=\"text-align: right;\">\n",
       "      <th></th>\n",
       "      <th>state</th>\n",
       "      <th>latitude</th>\n",
       "      <th>longitude</th>\n",
       "      <th>so2</th>\n",
       "      <th>no2</th>\n",
       "      <th>rspm</th>\n",
       "      <th>spm</th>\n",
       "      <th>pm2_5</th>\n",
       "      <th>date</th>\n",
       "      <th>year</th>\n",
       "      <th>month</th>\n",
       "      <th>day</th>\n",
       "      <th>aqi</th>\n",
       "      <th>aqi_cat</th>\n",
       "    </tr>\n",
       "  </thead>\n",
       "  <tbody>\n",
       "    <tr>\n",
       "      <th>0</th>\n",
       "      <td>Andhra Pradesh</td>\n",
       "      <td>14.750429</td>\n",
       "      <td>78.570026</td>\n",
       "      <td>4.8</td>\n",
       "      <td>17.4</td>\n",
       "      <td>90.0</td>\n",
       "      <td>192.0</td>\n",
       "      <td>31.0</td>\n",
       "      <td>1990-02-01</td>\n",
       "      <td>1990</td>\n",
       "      <td>2</td>\n",
       "      <td>1</td>\n",
       "      <td>200.0</td>\n",
       "      <td>Moderate</td>\n",
       "    </tr>\n",
       "  </tbody>\n",
       "</table>\n",
       "</div>"
      ],
      "text/plain": [
       "            state   latitude  longitude  so2   no2  rspm    spm  pm2_5  \\\n",
       "0  Andhra Pradesh  14.750429  78.570026  4.8  17.4  90.0  192.0   31.0   \n",
       "\n",
       "        date  year  month  day    aqi   aqi_cat  \n",
       "0 1990-02-01  1990      2    1  200.0  Moderate  "
      ]
     },
     "execution_count": 23,
     "metadata": {},
     "output_type": "execute_result"
    }
   ],
   "source": [
    "df.head(1)\n"
   ]
  },
  {
   "cell_type": "code",
   "execution_count": 24,
   "id": "000c63a2",
   "metadata": {},
   "outputs": [
    {
     "data": {
      "text/html": [
       "<div>\n",
       "<style scoped>\n",
       "    .dataframe tbody tr th:only-of-type {\n",
       "        vertical-align: middle;\n",
       "    }\n",
       "\n",
       "    .dataframe tbody tr th {\n",
       "        vertical-align: top;\n",
       "    }\n",
       "\n",
       "    .dataframe thead th {\n",
       "        text-align: right;\n",
       "    }\n",
       "</style>\n",
       "<table border=\"1\" class=\"dataframe\">\n",
       "  <thead>\n",
       "    <tr style=\"text-align: right;\">\n",
       "      <th></th>\n",
       "      <th>aqi</th>\n",
       "    </tr>\n",
       "  </thead>\n",
       "  <tbody>\n",
       "    <tr>\n",
       "      <th>count</th>\n",
       "      <td>29.000000</td>\n",
       "    </tr>\n",
       "    <tr>\n",
       "      <th>mean</th>\n",
       "      <td>257.053048</td>\n",
       "    </tr>\n",
       "    <tr>\n",
       "      <th>std</th>\n",
       "      <td>21.951486</td>\n",
       "    </tr>\n",
       "    <tr>\n",
       "      <th>min</th>\n",
       "      <td>215.030044</td>\n",
       "    </tr>\n",
       "    <tr>\n",
       "      <th>25%</th>\n",
       "      <td>242.810407</td>\n",
       "    </tr>\n",
       "    <tr>\n",
       "      <th>50%</th>\n",
       "      <td>253.775140</td>\n",
       "    </tr>\n",
       "    <tr>\n",
       "      <th>75%</th>\n",
       "      <td>273.155924</td>\n",
       "    </tr>\n",
       "    <tr>\n",
       "      <th>max</th>\n",
       "      <td>318.791525</td>\n",
       "    </tr>\n",
       "  </tbody>\n",
       "</table>\n",
       "</div>"
      ],
      "text/plain": [
       "              aqi\n",
       "count   29.000000\n",
       "mean   257.053048\n",
       "std     21.951486\n",
       "min    215.030044\n",
       "25%    242.810407\n",
       "50%    253.775140\n",
       "75%    273.155924\n",
       "max    318.791525"
      ]
     },
     "execution_count": 24,
     "metadata": {},
     "output_type": "execute_result"
    }
   ],
   "source": [
    "df[['year','aqi']].groupby('year').mean().describe()"
   ]
  },
  {
   "cell_type": "code",
   "execution_count": 28,
   "id": "82472f1d",
   "metadata": {},
   "outputs": [
    {
     "data": {
      "text/html": [
       "<div>\n",
       "<style scoped>\n",
       "    .dataframe tbody tr th:only-of-type {\n",
       "        vertical-align: middle;\n",
       "    }\n",
       "\n",
       "    .dataframe tbody tr th {\n",
       "        vertical-align: top;\n",
       "    }\n",
       "\n",
       "    .dataframe thead th {\n",
       "        text-align: right;\n",
       "    }\n",
       "</style>\n",
       "<table border=\"1\" class=\"dataframe\">\n",
       "  <thead>\n",
       "    <tr style=\"text-align: right;\">\n",
       "      <th></th>\n",
       "      <th>aqi</th>\n",
       "    </tr>\n",
       "    <tr>\n",
       "      <th>year</th>\n",
       "      <th></th>\n",
       "    </tr>\n",
       "  </thead>\n",
       "  <tbody>\n",
       "    <tr>\n",
       "      <th>1987</th>\n",
       "      <td>548.875000</td>\n",
       "    </tr>\n",
       "    <tr>\n",
       "      <th>1988</th>\n",
       "      <td>256.521739</td>\n",
       "    </tr>\n",
       "    <tr>\n",
       "      <th>1990</th>\n",
       "      <td>373.806122</td>\n",
       "    </tr>\n",
       "    <tr>\n",
       "      <th>1991</th>\n",
       "      <td>390.276190</td>\n",
       "    </tr>\n",
       "    <tr>\n",
       "      <th>1992</th>\n",
       "      <td>403.944444</td>\n",
       "    </tr>\n",
       "    <tr>\n",
       "      <th>1993</th>\n",
       "      <td>200.000000</td>\n",
       "    </tr>\n",
       "    <tr>\n",
       "      <th>1994</th>\n",
       "      <td>435.929412</td>\n",
       "    </tr>\n",
       "    <tr>\n",
       "      <th>1995</th>\n",
       "      <td>401.462963</td>\n",
       "    </tr>\n",
       "    <tr>\n",
       "      <th>1996</th>\n",
       "      <td>398.266667</td>\n",
       "    </tr>\n",
       "    <tr>\n",
       "      <th>1997</th>\n",
       "      <td>345.203704</td>\n",
       "    </tr>\n",
       "    <tr>\n",
       "      <th>1998</th>\n",
       "      <td>379.152381</td>\n",
       "    </tr>\n",
       "    <tr>\n",
       "      <th>1999</th>\n",
       "      <td>364.620370</td>\n",
       "    </tr>\n",
       "    <tr>\n",
       "      <th>2000</th>\n",
       "      <td>376.203704</td>\n",
       "    </tr>\n",
       "    <tr>\n",
       "      <th>2001</th>\n",
       "      <td>363.747475</td>\n",
       "    </tr>\n",
       "    <tr>\n",
       "      <th>2002</th>\n",
       "      <td>341.819149</td>\n",
       "    </tr>\n",
       "    <tr>\n",
       "      <th>2003</th>\n",
       "      <td>373.287656</td>\n",
       "    </tr>\n",
       "    <tr>\n",
       "      <th>2004</th>\n",
       "      <td>336.872485</td>\n",
       "    </tr>\n",
       "    <tr>\n",
       "      <th>2005</th>\n",
       "      <td>350.563741</td>\n",
       "    </tr>\n",
       "    <tr>\n",
       "      <th>2006</th>\n",
       "      <td>415.760961</td>\n",
       "    </tr>\n",
       "    <tr>\n",
       "      <th>2007</th>\n",
       "      <td>392.020067</td>\n",
       "    </tr>\n",
       "    <tr>\n",
       "      <th>2008</th>\n",
       "      <td>436.507226</td>\n",
       "    </tr>\n",
       "    <tr>\n",
       "      <th>2009</th>\n",
       "      <td>489.725063</td>\n",
       "    </tr>\n",
       "    <tr>\n",
       "      <th>2011</th>\n",
       "      <td>339.181008</td>\n",
       "    </tr>\n",
       "    <tr>\n",
       "      <th>2012</th>\n",
       "      <td>357.030093</td>\n",
       "    </tr>\n",
       "    <tr>\n",
       "      <th>2013</th>\n",
       "      <td>346.345633</td>\n",
       "    </tr>\n",
       "    <tr>\n",
       "      <th>2014</th>\n",
       "      <td>333.758573</td>\n",
       "    </tr>\n",
       "    <tr>\n",
       "      <th>2015</th>\n",
       "      <td>338.147206</td>\n",
       "    </tr>\n",
       "  </tbody>\n",
       "</table>\n",
       "</div>"
      ],
      "text/plain": [
       "             aqi\n",
       "year            \n",
       "1987  548.875000\n",
       "1988  256.521739\n",
       "1990  373.806122\n",
       "1991  390.276190\n",
       "1992  403.944444\n",
       "1993  200.000000\n",
       "1994  435.929412\n",
       "1995  401.462963\n",
       "1996  398.266667\n",
       "1997  345.203704\n",
       "1998  379.152381\n",
       "1999  364.620370\n",
       "2000  376.203704\n",
       "2001  363.747475\n",
       "2002  341.819149\n",
       "2003  373.287656\n",
       "2004  336.872485\n",
       "2005  350.563741\n",
       "2006  415.760961\n",
       "2007  392.020067\n",
       "2008  436.507226\n",
       "2009  489.725063\n",
       "2011  339.181008\n",
       "2012  357.030093\n",
       "2013  346.345633\n",
       "2014  333.758573\n",
       "2015  338.147206"
      ]
     },
     "execution_count": 28,
     "metadata": {},
     "output_type": "execute_result"
    }
   ],
   "source": [
    "df[df.state=='Delhi'][['aqi','year']].groupby('year').mean()"
   ]
  },
  {
   "cell_type": "code",
   "execution_count": 29,
   "id": "ba5245c1",
   "metadata": {},
   "outputs": [
    {
     "data": {
      "text/plain": [
       "<Axes: xlabel='year'>"
      ]
     },
     "execution_count": 29,
     "metadata": {},
     "output_type": "execute_result"
    },
    {
     "data": {
      "image/png": "[encoded data removed]",
      "text/plain": [
       "<Figure size 640x480 with 1 Axes>"
      ]
     },
     "metadata": {},
     "output_type": "display_data"
    }
   ],
   "source": [
    "df[ df.state =='Delhi'][['aqi','year']].groupby('year').mean().plot()"
   ]
  },
  {
   "cell_type": "code",
   "execution_count": 30,
   "id": "5551d1ce",
   "metadata": {},
   "outputs": [
    {
     "data": {
      "text/plain": [
       "array(['Andhra Pradesh', 'Arunachal Pradesh', 'Assam', 'Bihar',\n",
       "       'Chandigarh', 'Chhattisgarh', 'Delhi', 'Goa', 'Haryana',\n",
       "       'Himachal Pradesh', 'Jharkhand', 'Karnataka', 'Kerala',\n",
       "       'Madhya Pradesh', 'Maharashtra', 'Manipur', 'Meghalaya', 'Mizoram',\n",
       "       'Nagaland', 'Puducherry', 'Punjab', 'Rajasthan', 'Sikkim',\n",
       "       'Tamil Nadu', 'Uttar Pradesh', 'Uttaranchal', 'West Bengal'],\n",
       "      dtype=object)"
      ]
     },
     "execution_count": 30,
     "metadata": {},
     "output_type": "execute_result"
    }
   ],
   "source": [
    "df.state.unique()"
   ]
  },
  {
   "cell_type": "code",
   "execution_count": 31,
   "id": "95c25fd2",
   "metadata": {},
   "outputs": [],
   "source": [
    "from sklearn.preprocessing import LabelEncoder"
   ]
  },
  {
   "cell_type": "code",
   "execution_count": 32,
   "id": "eb6a2b33",
   "metadata": {},
   "outputs": [],
   "source": [
    "le = LabelEncoder()\n",
    "le.fit(df.state)\n",
    "df['state'] = le.transform(df.state)"
   ]
  },
  {
   "cell_type": "code",
   "execution_count": 33,
   "id": "c5fc44da",
   "metadata": {},
   "outputs": [
    {
     "data": {
      "text/plain": [
       "array([ 0,  1,  2,  3,  4,  5,  6,  7,  8,  9, 10, 11, 12, 13, 14, 15, 16,\n",
       "       17, 18, 19, 20, 21, 22, 23, 24, 25, 26])"
      ]
     },
     "execution_count": 33,
     "metadata": {},
     "output_type": "execute_result"
    }
   ],
   "source": [
    "df.state.unique()"
   ]
  },
  {
   "cell_type": "markdown",
   "id": "27780f9c",
   "metadata": {},
   "source": [
    "# Model Training"
   ]
  },
  {
   "cell_type": "code",
   "execution_count": 34,
   "id": "349e897d",
   "metadata": {},
   "outputs": [],
   "source": [
    "indep = ['state','year', 'month','aqi']\n",
    "dep = 'aqi'"
   ]
  },
  {
   "cell_type": "code",
   "execution_count": 35,
   "id": "230e4585",
   "metadata": {},
   "outputs": [],
   "source": [
    "x = df[indep].groupby(['state','year','month']).mean().reset_index()\n",
    "y = x['aqi']\n",
    "x = x[['state','year','month']]"
   ]
  },
  {
   "cell_type": "code",
   "execution_count": 42,
   "id": "bda8f542",
   "metadata": {},
   "outputs": [],
   "source": [
    "x=df[indep].groupby(['state','year','month']).mean().reset_index()\n",
    "y=x['aqi']\n",
    "x=x[['state','year','month']]"
   ]
  },
  {
   "cell_type": "markdown",
   "id": "6b3dfb39",
   "metadata": {},
   "source": [
    "# train test split"
   ]
  },
  {
   "cell_type": "code",
   "execution_count": 46,
   "id": "faedc4db",
   "metadata": {},
   "outputs": [],
   "source": [
    "x_train,x_test=x[x.year>=1800][x.year<2015],x[x.year==2015]\n",
    "y_train,y_test=y[x_train.index],y[x_test.index]"
   ]
  },
  {
   "cell_type": "code",
   "execution_count": 47,
   "id": "f0b4ee9d",
   "metadata": {},
   "outputs": [
    {
     "data": {
      "text/plain": [
       "((6056, 3), (259, 3))"
      ]
     },
     "execution_count": 47,
     "metadata": {},
     "output_type": "execute_result"
    }
   ],
   "source": [
    "x_train.shape, x_test.shape"
   ]
  },
  {
   "cell_type": "code",
   "execution_count": null,
   "id": "e7b901a4",
   "metadata": {},
   "outputs": [],
   "source": [
    "# model 1"
   ]
  },
  {
   "cell_type": "code",
   "execution_count": 48,
   "id": "bfd0c829",
   "metadata": {},
   "outputs": [
    {
     "data": {
      "text/plain": [
       "0.7596757348068206"
      ]
     },
     "execution_count": 48,
     "metadata": {},
     "output_type": "execute_result"
    }
   ],
   "source": [
    "from sklearn.ensemble import RandomForestRegressor\n",
    "m = RandomForestRegressor(300,max_depth=10)\n",
    "m.fit(x_train, y_train)\n",
    "pred = m.predict(x_test)\n",
    "m.score(x_test, y_test)"
   ]
  },
  {
   "cell_type": "code",
   "execution_count": 49,
   "id": "a0b2b806",
   "metadata": {},
   "outputs": [
    {
     "data": {
      "text/plain": [
       "463.44515254749"
      ]
     },
     "execution_count": 49,
     "metadata": {},
     "output_type": "execute_result"
    }
   ],
   "source": [
    "from sklearn.metrics import mean_squared_error\n",
    "mean_squared_error(y_test, pred)"
   ]
  },
  {
   "cell_type": "code",
   "execution_count": 50,
   "id": "2dd721e1",
   "metadata": {},
   "outputs": [],
   "source": [
    "# model 2\n"
   ]
  },
  {
   "cell_type": "code",
   "execution_count": 51,
   "id": "c845b0cb",
   "metadata": {},
   "outputs": [],
   "source": [
    "from sklearn.tree import DecisionTreeRegressor"
   ]
  },
  {
   "cell_type": "code",
   "execution_count": 52,
   "id": "8a8d1a54",
   "metadata": {},
   "outputs": [
    {
     "data": {
      "text/plain": [
       "0.7910488459476582"
      ]
     },
     "execution_count": 52,
     "metadata": {},
     "output_type": "execute_result"
    }
   ],
   "source": [
    "tree = DecisionTreeRegressor()\n",
    "tree.fit(x_train, y_train)\n",
    "pred = tree.predict(x_test)\n",
    "tree.score(x_test, y_test)"
   ]
  },
  {
   "cell_type": "code",
   "execution_count": 53,
   "id": "3c74c597",
   "metadata": {},
   "outputs": [],
   "source": [
    "# model 3"
   ]
  },
  {
   "cell_type": "code",
   "execution_count": 54,
   "id": "e7427d24",
   "metadata": {},
   "outputs": [
    {
     "data": {
      "text/plain": [
       "-0.03364246680816674"
      ]
     },
     "execution_count": 54,
     "metadata": {},
     "output_type": "execute_result"
    }
   ],
   "source": [
    "from sklearn.svm import SVR\n",
    "svr = SVR()\n",
    "svr.fit(x_train, y_train)\n",
    "pred = svr.predict(x_test)\n",
    "svr.score(x_test, y_test)"
   ]
  },
  {
   "cell_type": "code",
   "execution_count": null,
   "id": "5e7bb3a4",
   "metadata": {},
   "outputs": [],
   "source": []
  },
  {
   "cell_type": "code",
   "execution_count": null,
   "id": "6aded2cc",
   "metadata": {},
   "outputs": [],
   "source": []
  },
  {
   "cell_type": "code",
   "execution_count": 61,
   "id": "af579a7b",
   "metadata": {},
   "outputs": [],
   "source": [
    "from sklearn.metrics import mean_squared_error,r2_score,accuracy_score\n",
    "\n",
    "def print_score(x_test=x_test,y_test=y_test):\n",
    "    y_true=y_test\n",
    "    y_pred=weighted_avg(models,weights,x_test)['prediction']\n",
    "    \n",
    "    print('f1 mean_squared_error: ',mean_squared_error(y_true,y_pred))\n",
    "    print('r2_score : ', r2_score(y_true, y_pred))"
   ]
  },
  {
   "cell_type": "code",
   "execution_count": 59,
   "id": "22b1aaec",
   "metadata": {},
   "outputs": [],
   "source": [
    "def weighted_avg(models: list, weights: list, predict_df: pd.DataFrame):\n",
    "    \"\"\"\n",
    "    calculates weighted average of predictions of list of models\n",
    "    \"\"\"\n",
    "    preds = pd.DataFrame()\n",
    "    \n",
    "    for i, m in enumerate(models):\n",
    "        m.fit(x_train, y_train)\n",
    "        preds[i] = m.predict(predict_df)\n",
    "        \n",
    "    preds['weighted_pred'] = (preds * weights).sum(axis=1) / sum(weights)\n",
    "    preds['prediction'] = preds['weighted_pred']\n",
    "    return preds"
   ]
  },
  {
   "cell_type": "code",
   "execution_count": 62,
   "id": "dccd2953",
   "metadata": {},
   "outputs": [
    {
     "name": "stdout",
     "output_type": "stream",
     "text": [
      "f1 mean_squared_error:  383.85070433294993\n",
      "r2_score :  0.8009502571002776\n"
     ]
    }
   ],
   "source": [
    "models = [\n",
    "    RandomForestRegressor(100,max_depth=10, random_state=42),\n",
    "    DecisionTreeRegressor(random_state=42),\n",
    "    SVR()\n",
    "]\n",
    "\n",
    "# set weights \n",
    "weights = [0.5,0.7,0.1]\n",
    "\n",
    "# calculating final predictions\n",
    "preds = weighted_avg(models, weights, x_test)\n",
    "\n",
    "print_score()   # score on training data"
   ]
  },
  {
   "cell_type": "code",
   "execution_count": 63,
   "id": "77a3464d",
   "metadata": {},
   "outputs": [],
   "source": [
    "def train_models(models, weights):\n",
    "    trained_models = []\n",
    "    for i,m in enumerate(models):\n",
    "        m.fit(x_train, y_train)\n",
    "        trained_models.append(m)\n",
    "    return trained_models"
   ]
  },
  {
   "cell_type": "code",
   "execution_count": 64,
   "id": "86fdfffd",
   "metadata": {},
   "outputs": [],
   "source": [
    "models = [\n",
    "    RandomForestRegressor(100,max_depth=10, random_state=42),\n",
    "    DecisionTreeRegressor(random_state=42),\n",
    "    SVR()\n",
    "]\n",
    "\n",
    "# set weights \n",
    "weights = [0.5,0.7,0.1]\n",
    "\n",
    "# train models\n",
    "trained_models = train_models(models, weights)"
   ]
  },
  {
   "cell_type": "code",
   "execution_count": 65,
   "id": "ff058140",
   "metadata": {},
   "outputs": [],
   "source": [
    "import joblib"
   ]
  },
  {
   "cell_type": "code",
   "execution_count": 66,
   "id": "b8bed529",
   "metadata": {},
   "outputs": [
    {
     "data": {
      "text/plain": [
       "['model_weights.pkl']"
      ]
     },
     "execution_count": 66,
     "metadata": {},
     "output_type": "execute_result"
    }
   ],
   "source": [
    "joblib.dump(models, \"weighted_models.pkl\")\n",
    "joblib.dump(weights, \"model_weights.pkl\")"
   ]
  },
  {
   "cell_type": "code",
   "execution_count": 67,
   "id": "438571e5",
   "metadata": {},
   "outputs": [],
   "source": [
    "import joblib\n",
    "\n",
    "# Load the models and weights\n",
    "models = joblib.load(\"weighted_models.pkl\")\n",
    "weights = joblib.load(\"model_weights.pkl\")\n",
    "\n",
    "# Define a function for weighted averaging\n",
    "def weighted_average_prediction(models, weights, input_data):\n",
    "    predictions = [model.predict(input_data) for model in models]\n",
    "    weighted_prediction = sum(weight * prediction for weight, prediction in zip(weights, predictions))\n",
    "    return weighted_prediction\n",
    "\n",
    "def weighted_avg(models: list, weights: list, predict_df: pd.DataFrame):\n",
    "    \"\"\"\n",
    "    calculates weighted average of predictions of list of models\n",
    "    \"\"\"\n",
    "    preds = pd.DataFrame()\n",
    "    \n",
    "    for i, m in enumerate(models):\n",
    "        m.fit(x_train, y_train)\n",
    "        preds[i] = m.predict(predict_df)\n",
    "        \n",
    "    preds['weighted_pred'] = (preds * weights).sum(axis=1) / sum(weights)\n",
    "    preds['prediction'] = preds['weighted_pred']\n",
    "    return preds\n",
    "\n"
   ]
  },
  {
   "cell_type": "code",
   "execution_count": null,
   "id": "14399b56",
   "metadata": {},
   "outputs": [],
   "source": []
  }
 ],
 "metadata": {
  "kernelspec": {
   "display_name": "Python 3 (ipykernel)",
   "language": "python",
   "name": "python3"
  },
  "language_info": {
   "codemirror_mode": {
    "name": "ipython",
    "version": 3
   },
   "file_extension": ".py",
   "mimetype": "text/x-python",
   "name": "python",
   "nbconvert_exporter": "python",
   "pygments_lexer": "ipython3",
   "version": "3.11.5"
  }
 },
 "nbformat": 4,
 "nbformat_minor": 5
}
